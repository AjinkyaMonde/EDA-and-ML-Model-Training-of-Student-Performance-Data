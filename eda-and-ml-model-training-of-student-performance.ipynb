Machine learning Model to predict the performance of the student based on the analysis of student parameters.
